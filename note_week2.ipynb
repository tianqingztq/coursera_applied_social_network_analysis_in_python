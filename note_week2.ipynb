{
 "cells": [
  {
   "cell_type": "markdown",
   "id": "aa0ae9c5",
   "metadata": {},
   "source": [
    "# Clustering Coefficient"
   ]
  },
  {
   "cell_type": "code",
   "execution_count": 1,
   "id": "a47cdbd7",
   "metadata": {},
   "outputs": [],
   "source": [
    "import networkx as nx"
   ]
  },
  {
   "cell_type": "code",
   "execution_count": 2,
   "id": "ee332477",
   "metadata": {},
   "outputs": [],
   "source": [
    "G = nx.Graph()\n",
    "G.add_edges_from([\n",
    "    ('A','K'), ('A', 'B'),\n",
    "    ('A', 'C'), ('B', 'C'),\n",
    "    ('B', 'K'), ('C', 'E'),\n",
    "    ('C','F'),('D','E'),('E','F'),\n",
    "    ('E','H'),('F','G'),('I','J')\n",
    "])"
   ]
  },
  {
   "cell_type": "code",
   "execution_count": 7,
   "id": "1899496a",
   "metadata": {},
   "outputs": [
    {
     "data": {
      "image/png": "[encoded data removed]",
      "text/plain": [
       "<Figure size 432x288 with 1 Axes>"
      ]
     },
     "metadata": {},
     "output_type": "display_data"
    }
   ],
   "source": [
    "nx.draw_networkx(G)"
   ]
  },
  {
   "cell_type": "markdown",
   "id": "7f940756",
   "metadata": {},
   "source": [
    "Clustering coefficient measures the degree to which nodes in a network tend to \"cluster\" or form triangles."
   ]
  },
  {
   "cell_type": "markdown",
   "id": "cff5b564",
   "metadata": {},
   "source": [
    "## 1. Local Clustering Coefficient\n",
    "Find the fraction of pairs of the node's friends that are friends with each other."
   ]
  },
  {
   "cell_type": "code",
   "execution_count": 3,
   "id": "df071d85",
   "metadata": {},
   "outputs": [
    {
     "data": {
      "text/plain": [
       "0.3333333333333333"
      ]
     },
     "execution_count": 3,
     "metadata": {},
     "output_type": "execute_result"
    }
   ],
   "source": [
    "nx.clustering(G, 'F')"
   ]
  },
  {
   "cell_type": "code",
   "execution_count": 5,
   "id": "7f8256fa",
   "metadata": {},
   "outputs": [
    {
     "data": {
      "text/plain": [
       "0.6666666666666666"
      ]
     },
     "execution_count": 5,
     "metadata": {},
     "output_type": "execute_result"
    }
   ],
   "source": [
    "nx.clustering(G, 'A')"
   ]
  },
  {
   "cell_type": "code",
   "execution_count": 6,
   "id": "dd67bfa4",
   "metadata": {},
   "outputs": [
    {
     "data": {
      "text/plain": [
       "0"
      ]
     },
     "execution_count": 6,
     "metadata": {},
     "output_type": "execute_result"
    }
   ],
   "source": [
    "nx.clustering(G, 'J')"
   ]
  },
  {
   "cell_type": "markdown",
   "id": "5060a218",
   "metadata": {},
   "source": [
    "## 2. Global Clustering Coefficient\n",
    "\n",
    "Approach 1: average all the *local clustering coefficients* over all nodes in the graph"
   ]
  },
  {
   "cell_type": "code",
   "execution_count": 9,
   "id": "2c04a0a2",
   "metadata": {},
   "outputs": [
    {
     "data": {
      "text/plain": [
       "0.28787878787878785"
      ]
     },
     "execution_count": 9,
     "metadata": {},
     "output_type": "execute_result"
    }
   ],
   "source": [
    "nx.average_clustering(G)"
   ]
  },
  {
   "cell_type": "markdown",
   "id": "a5a25479",
   "metadata": {},
   "source": [
    "### Compare\n",
    "\n",
    "Approach 2: measuring clustering on the whole network\n",
    "** percentage of \"open traids\" that are triangles in a network\n",
    "\n",
    "**traingle**: three nodes + three edges \n",
    "\n",
    "----> contains 3 different open traids\n",
    "\n",
    "**open traids**: three nodes + two edges\n",
    "\n",
    "transitivity = 3* number of closed traids (traingles)/ number of open traids\n",
    "\n",
    "Transitivity: Ratio of number of traingles and number of \"open traids\" in a network."
   ]
  },
  {
   "cell_type": "code",
   "execution_count": 10,
   "id": "513210ed",
   "metadata": {},
   "outputs": [
    {
     "data": {
      "text/plain": [
       "0.4090909090909091"
      ]
     },
     "execution_count": 10,
     "metadata": {},
     "output_type": "execute_result"
    }
   ],
   "source": [
    "nx.transitivity(G)"
   ]
  },
  {
   "cell_type": "markdown",
   "id": "fb32252f",
   "metadata": {},
   "source": [
    "### Conclusion\n",
    "Both approaches measure the tendency for edges to form triangles. Transitivity weights nodes with large degree higher. (penalize)\n",
    "\n"
   ]
  },
  {
   "cell_type": "markdown",
   "id": "f6c4c348",
   "metadata": {},
   "source": [
    "#  Distance Measures\n",
    "\n",
    "How far is node A from node H?\n",
    "\n",
    "are nodes far away or close to each other in the network?\n",
    "\n",
    "**Path**: A sequence of nodes connected by an edge.\n",
    "\n",
    "Could have different paths (takes different \"hops\")\n",
    "\n",
    "**Path Length**: number of steps it contains from beginning to end.\n",
    "\n",
    "**Distance between two nodes**: the length of the shortest path between two nodes."
   ]
  },
  {
   "cell_type": "code",
   "execution_count": 11,
   "id": "77608314",
   "metadata": {},
   "outputs": [
    {
     "data": {
      "text/plain": [
       "['A', 'C', 'E', 'H']"
      ]
     },
     "execution_count": 11,
     "metadata": {},
     "output_type": "execute_result"
    }
   ],
   "source": [
    "nx.shortest_path(G, \"A\", \"H\")"
   ]
  },
  {
   "cell_type": "code",
   "execution_count": 12,
   "id": "58f685c3",
   "metadata": {},
   "outputs": [
    {
     "data": {
      "text/plain": [
       "3"
      ]
     },
     "execution_count": 12,
     "metadata": {},
     "output_type": "execute_result"
    }
   ],
   "source": [
    "nx.shortest_path_length(G, \"A\", \"H\")"
   ]
  },
  {
   "cell_type": "markdown",
   "id": "2521560d",
   "metadata": {},
   "source": [
    "**Question:** Find the distince from node A to every other node.\n",
    "\n",
    "**Breadth-first search (BFS)**: a systematic and efficient procedure for computing distances from a node to all other nodes in a large network by \"discovering\" nodes in layers."
   ]
  },
  {
   "cell_type": "code",
   "execution_count": 13,
   "id": "24a89460",
   "metadata": {},
   "outputs": [],
   "source": [
    "T = nx.bfs_tree(G, 'A')"
   ]
  },
  {
   "cell_type": "code",
   "execution_count": 15,
   "id": "24ff51f5",
   "metadata": {},
   "outputs": [
    {
     "data": {
      "text/plain": [
       "[('A', 'K'),\n",
       " ('A', 'B'),\n",
       " ('A', 'C'),\n",
       " ('C', 'E'),\n",
       " ('C', 'F'),\n",
       " ('E', 'D'),\n",
       " ('E', 'H'),\n",
       " ('F', 'G')]"
      ]
     },
     "execution_count": 15,
     "metadata": {},
     "output_type": "execute_result"
    }
   ],
   "source": [
    "list(T.edges())  # tree adges"
   ]
  },
  {
   "cell_type": "code",
   "execution_count": 16,
   "id": "94e7ca58",
   "metadata": {},
   "outputs": [
    {
     "data": {
      "text/plain": [
       "{'A': 0, 'B': 1, 'C': 1, 'K': 1, 'E': 2, 'F': 2, 'D': 3, 'H': 3, 'G': 3}"
      ]
     },
     "execution_count": 16,
     "metadata": {},
     "output_type": "execute_result"
    }
   ],
   "source": [
    "nx.shortest_path_length(G, 'A')  # A ~ any other nodes"
   ]
  },
  {
   "cell_type": "markdown",
   "id": "113f8fa4",
   "metadata": {},
   "source": [
    "### Characterizing distance in a network\n",
    "**Question**: How to characterize the distance between all pairs of nodes in a graph?\n",
    "\n",
    "**Average distance** between every pair of nodes"
   ]
  },
  {
   "cell_type": "code",
   "execution_count": 18,
   "id": "49679a03",
   "metadata": {},
   "outputs": [],
   "source": [
    "G = nx.Graph()\n",
    "G.add_edges_from([\n",
    "    ('A','K'), ('A', 'B'),\n",
    "    ('A', 'C'), ('B', 'C'),\n",
    "    ('B', 'K'), ('C', 'E'),\n",
    "    ('C','F'),('D','E'),('E','F'),\n",
    "    ('E','H'),('F','G')\n",
    "])"
   ]
  },
  {
   "cell_type": "code",
   "execution_count": 19,
   "id": "75c8d4e0",
   "metadata": {},
   "outputs": [
    {
     "data": {
      "text/plain": [
       "2.138888888888889"
      ]
     },
     "execution_count": 19,
     "metadata": {},
     "output_type": "execute_result"
    }
   ],
   "source": [
    "nx.average_shortest_path_length(G)"
   ]
  },
  {
   "cell_type": "markdown",
   "id": "02e4e95d",
   "metadata": {},
   "source": [
    "**Diameter**: maximum distance between every pair of nodes"
   ]
  },
  {
   "cell_type": "code",
   "execution_count": 20,
   "id": "a32849fd",
   "metadata": {},
   "outputs": [
    {
     "data": {
      "text/plain": [
       "4"
      ]
     },
     "execution_count": 20,
     "metadata": {},
     "output_type": "execute_result"
    }
   ],
   "source": [
    "nx.diameter(G)"
   ]
  },
  {
   "cell_type": "markdown",
   "id": "33403b9c",
   "metadata": {},
   "source": [
    "**Eccentricity** of a node n is the **largest distance between n and all other nodes**."
   ]
  },
  {
   "cell_type": "code",
   "execution_count": 21,
   "id": "2d5fdaca",
   "metadata": {},
   "outputs": [
    {
     "data": {
      "text/plain": [
       "{'A': 3, 'K': 4, 'B': 3, 'C': 2, 'E': 3, 'F': 3, 'D': 4, 'H': 4, 'G': 4}"
      ]
     },
     "execution_count": 21,
     "metadata": {},
     "output_type": "execute_result"
    }
   ],
   "source": [
    "nx.eccentricity(G)"
   ]
  },
  {
   "cell_type": "markdown",
   "id": "b837d779",
   "metadata": {},
   "source": [
    "The **Radius** of a graph is the **minimum eccentricity**."
   ]
  },
  {
   "cell_type": "code",
   "execution_count": 23,
   "id": "d6ec21b2",
   "metadata": {},
   "outputs": [
    {
     "data": {
      "text/plain": [
       "2"
      ]
     },
     "execution_count": 23,
     "metadata": {},
     "output_type": "execute_result"
    }
   ],
   "source": [
    "nx.radius(G)"
   ]
  },
  {
   "cell_type": "markdown",
   "id": "7a79386a",
   "metadata": {},
   "source": [
    "### Identifying central and periphery nodes\n",
    "\n",
    "The **Periphery** of a graph is the set of nodes that have **eccentricity equal to the diameter**."
   ]
  },
  {
   "cell_type": "code",
   "execution_count": 24,
   "id": "af88ed4c",
   "metadata": {},
   "outputs": [
    {
     "data": {
      "text/plain": [
       "['K', 'D', 'H', 'G']"
      ]
     },
     "execution_count": 24,
     "metadata": {},
     "output_type": "execute_result"
    }
   ],
   "source": [
    "nx.periphery(G)"
   ]
  },
  {
   "cell_type": "markdown",
   "id": "84635973",
   "metadata": {},
   "source": [
    "The **center** of a graph is the set of nodes that have **eccentricity equal to the radius**"
   ]
  },
  {
   "cell_type": "code",
   "execution_count": 25,
   "id": "a1cffa2a",
   "metadata": {},
   "outputs": [
    {
     "data": {
      "text/plain": [
       "['C']"
      ]
     },
     "execution_count": 25,
     "metadata": {},
     "output_type": "execute_result"
    }
   ],
   "source": [
    "nx.center(G)"
   ]
  },
  {
   "cell_type": "markdown",
   "id": "1414c703",
   "metadata": {},
   "source": [
    "### Karate Club Network Example"
   ]
  },
  {
   "cell_type": "code",
   "execution_count": 26,
   "id": "71bc0834",
   "metadata": {},
   "outputs": [],
   "source": [
    "G = nx.karate_club_graph()"
   ]
  },
  {
   "cell_type": "code",
   "execution_count": 28,
   "id": "2aa074e0",
   "metadata": {},
   "outputs": [],
   "source": [
    "G = nx.convert_node_labels_to_integers(G, first_label=1)"
   ]
  },
  {
   "cell_type": "code",
   "execution_count": 33,
   "id": "5c54c3b7",
   "metadata": {},
   "outputs": [
    {
     "data": {
      "image/png": "[encoded data removed]",
      "text/plain": [
       "<Figure size 432x288 with 1 Axes>"
      ]
     },
     "metadata": {},
     "output_type": "display_data"
    }
   ],
   "source": [
    "nx.draw_networkx(G)"
   ]
  },
  {
   "cell_type": "markdown",
   "id": "fc9d9222",
   "metadata": {},
   "source": [
    "Average shortest path, raduis, diameter, center"
   ]
  },
  {
   "cell_type": "code",
   "execution_count": 35,
   "id": "69704358",
   "metadata": {},
   "outputs": [
    {
     "data": {
      "text/plain": [
       "2.408199643493761"
      ]
     },
     "execution_count": 35,
     "metadata": {},
     "output_type": "execute_result"
    }
   ],
   "source": [
    "nx.average_shortest_path_length(G)"
   ]
  },
  {
   "cell_type": "code",
   "execution_count": 36,
   "id": "661aa7b9",
   "metadata": {},
   "outputs": [
    {
     "data": {
      "text/plain": [
       "[1, 2, 3, 4, 9, 14, 20, 32]"
      ]
     },
     "execution_count": 36,
     "metadata": {},
     "output_type": "execute_result"
    }
   ],
   "source": [
    "nx.center(G)"
   ]
  },
  {
   "cell_type": "markdown",
   "id": "184c8061",
   "metadata": {},
   "source": [
    "# Connected Components\n",
    "\n",
    "An undirected graph is connected if, for every pair nodes, there is a path between them."
   ]
  },
  {
   "cell_type": "code",
   "execution_count": 37,
   "id": "3582dd27",
   "metadata": {},
   "outputs": [
    {
     "data": {
      "text/plain": [
       "True"
      ]
     },
     "execution_count": 37,
     "metadata": {},
     "output_type": "execute_result"
    }
   ],
   "source": [
    "nx.is_connected(G)"
   ]
  },
  {
   "cell_type": "markdown",
   "id": "5c7e53fb",
   "metadata": {},
   "source": [
    "### Connected Components:\n",
    "\n",
    "a subset of nodes such as\n",
    "\n",
    "1. every node in the subset has a path to every other node,\n",
    "\n",
    "2. No other node has a path to any node in the subset."
   ]
  },
  {
   "cell_type": "code",
   "execution_count": null,
   "id": "f9e53111",
   "metadata": {},
   "outputs": [],
   "source": [
    "nx.number_connected_components(G)"
   ]
  },
  {
   "cell_type": "markdown",
   "id": "307e91f7",
   "metadata": {},
   "source": [
    "### Connectivity in Directed Graphs\n",
    "\n",
    "strongly connected: a directed graph if, for every pair nodes u and v, there is a directed path from u to v and a directed path from v to u.\n",
    "\n",
    "\n",
    "weakly connected: a directed graph if, replacing all directed edges with undirected edges produces a connected undirected graph."
   ]
  },
  {
   "cell_type": "code",
   "execution_count": null,
   "id": "60ffefe5",
   "metadata": {},
   "outputs": [],
   "source": []
  },
  {
   "cell_type": "markdown",
   "id": "fc4c2f65",
   "metadata": {},
   "source": [
    "# Network Robustness\n",
    "\n",
    "the ability of a network to maintain its general structural properties (connectivity) when it faces failures or attacks (removal of nodes or edges)"
   ]
  },
  {
   "cell_type": "code",
   "execution_count": null,
   "id": "bb0b4387",
   "metadata": {},
   "outputs": [],
   "source": []
  },
  {
   "cell_type": "code",
   "execution_count": null,
   "id": "c70650e8",
   "metadata": {},
   "outputs": [],
   "source": []
  }
 ],
 "metadata": {
  "kernelspec": {
   "display_name": "Python [conda env:root] *",
   "language": "python",
   "name": "conda-root-py"
  },
  "language_info": {
   "codemirror_mode": {
    "name": "ipython",
    "version": 3
   },
   "file_extension": ".py",
   "mimetype": "text/x-python",
   "name": "python",
   "nbconvert_exporter": "python",
   "pygments_lexer": "ipython3",
   "version": "3.9.7"
  }
 },
 "nbformat": 4,
 "nbformat_minor": 5
}
