{
 "cells": [
  {
   "cell_type": "markdown",
   "metadata": {
    "deletable": false,
    "editable": false,
    "nbgrader": {
     "cell_type": "markdown",
     "checksum": "bb4e2877f2f4b2e6ed4718d2893634c1",
     "grade": false,
     "grade_id": "cell-69c39b45a3de0dce",
     "locked": true,
     "schema_version": 3,
     "solution": false,
     "task": false
    }
   },
   "source": [
    "# Assignment 1 - Creating and Manipulating Graphs\n",
    "\n",
    "Eight employees at a small company were asked to choose 3 movies that they would most enjoy watching for the upcoming company movie night. These choices are stored in the file `assets/Employee_Movie_Choices.txt`.\n",
    "\n",
    "A second file, `assets/Employee_Relationships.txt`, has data on the relationships between different coworkers. \n",
    "\n",
    "The relationship score has value of `-100` (Enemies) to `+100` (Best Friends). A value of zero means the two employees haven't interacted or are indifferent.\n",
    "\n",
    "Both files are tab delimited."
   ]
  },
  {
   "cell_type": "code",
   "execution_count": 3,
   "metadata": {
    "deletable": false,
    "editable": false,
    "nbgrader": {
     "cell_type": "code",
     "checksum": "9ebfce92d32aebeb619da8610d22bbbf",
     "grade": false,
     "grade_id": "cell-880320d7430bc93c",
     "locked": true,
     "schema_version": 3,
     "solution": false,
     "task": false
    }
   },
   "outputs": [],
   "source": [
    "import networkx as nx\n",
    "import pandas as pd\n",
    "import numpy as np\n",
    "\n",
    "\n",
    "# This is the set of employees\n",
    "employees = set(['Pablo',\n",
    "                 'Lee',\n",
    "                 'Georgia',\n",
    "                 'Vincent',\n",
    "                 'Andy',\n",
    "                 'Frida',\n",
    "                 'Joan',\n",
    "                 'Claude'])\n",
    "\n",
    "# This is the set of movies\n",
    "movies = set(['The Shawshank Redemption',\n",
    "              'Forrest Gump',\n",
    "              'The Matrix',\n",
    "              'Anaconda',\n",
    "              'The Social Network',\n",
    "              'The Godfather',\n",
    "              'Monty Python and the Holy Grail',\n",
    "              'Snakes on a Plane',\n",
    "              'Kung Fu Panda',\n",
    "              'The Dark Knight',\n",
    "              'Mean Girls'])\n",
    "\n",
    "\n",
    "# you can use the following function to plot graphs\n",
    "# make sure to comment it out before submitting to the autograder\n",
    "def plot_graph(G, weight_name=None):\n",
    "    '''\n",
    "    G: a networkx G\n",
    "    weight_name: name of the attribute for plotting edge weights (if G is weighted)\n",
    "    '''\n",
    "    #%matplotlib notebook\n",
    "    import matplotlib.pyplot as plt\n",
    "    \n",
    "    plt.figure()\n",
    "    pos = nx.spring_layout(G)\n",
    "    edges = G.edges()\n",
    "    weights = None\n",
    "    \n",
    "    if weight_name:\n",
    "        weights = [int(G[u][v][weight_name]) for u,v in edges]\n",
    "        labels = nx.get_edge_attributes(G,weight_name)\n",
    "        nx.draw_networkx_edge_labels(G,pos,edge_labels=labels)\n",
    "        nx.draw_networkx(G, pos, width=weights);\n",
    "    else:\n",
    "        nx.draw_networkx(G, pos,);"
   ]
  },
  {
   "cell_type": "markdown",
   "metadata": {
    "deletable": false,
    "editable": false,
    "nbgrader": {
     "cell_type": "markdown",
     "checksum": "0b6347bb31ef371bbca723a98ae77ab3",
     "grade": false,
     "grade_id": "cell-1790d513ed5dcd72",
     "locked": true,
     "schema_version": 3,
     "solution": false,
     "task": false
    }
   },
   "source": [
    "### Question 1\n",
    "\n",
    "Using NetworkX, load in the bipartite graph from `assets/Employee_Movie_Choices.txt` and return that graph.\n",
    "\n",
    "*This function should return a bipartite networkx graph with 19 nodes and 24 edges*"
   ]
  },
  {
   "cell_type": "code",
   "execution_count": 2,
   "metadata": {},
   "outputs": [
    {
     "name": "stdout",
     "output_type": "stream",
     "text": [
      "#Employee\tMovie\n",
      "Andy\tAnaconda\n",
      "Andy\tMean Girls\n",
      "Andy\tThe Matrix\n",
      "Claude\tAnaconda\n",
      "Claude\tMonty Python and the Holy Grail\n",
      "Claude\tSnakes on a Plane\n",
      "Frida\tThe Matrix\n",
      "Frida\tThe Shawshank Redemption\n",
      "Frida\tThe Social Network\n",
      "Georgia\tAnaconda\n",
      "Georgia\tMonty Python and the Holy Grail\n",
      "Georgia\tSnakes on a Plane\n",
      "Joan\tForrest Gump\n",
      "Joan\tKung Fu Panda\n",
      "Joan\tMean Girls\n",
      "Lee\tForrest Gump\n",
      "Lee\tKung Fu Panda\n",
      "Lee\tMean Girls\n",
      "Pablo\tThe Dark Knight\n",
      "Pablo\tThe Matrix\n",
      "Pablo\tThe Shawshank Redemption\n",
      "Vincent\tThe Godfather\n",
      "Vincent\tThe Shawshank Redemption\n",
      "Vincent\tThe Social Network\n"
     ]
    }
   ],
   "source": [
    "!cat assets/Employee_Movie_Choices.txt"
   ]
  },
  {
   "cell_type": "code",
   "execution_count": 22,
   "metadata": {
    "deletable": false,
    "nbgrader": {
     "cell_type": "code",
     "checksum": "e1d9e71e3686a4633566908ab722faab",
     "grade": false,
     "grade_id": "cell-e815deb246dc7c0f",
     "locked": false,
     "schema_version": 3,
     "solution": true,
     "task": false
    }
   },
   "outputs": [],
   "source": [
    "def answer_one():\n",
    "\n",
    "    # YOUR CODE HERE\n",
    "    B1 = nx.read_edgelist(\n",
    "        'assets/Employee_Movie_Choices.txt',\n",
    "        delimiter=\"\\t\"\n",
    "    )\n",
    "    # raise NotImplementedError()\n",
    "    return B1\n",
    " "
   ]
  },
  {
   "cell_type": "code",
   "execution_count": 23,
   "metadata": {
    "deletable": false,
    "editable": false,
    "nbgrader": {
     "cell_type": "code",
     "checksum": "3f8a6334e337a41d20d03f2f8695869b",
     "grade": true,
     "grade_id": "cell-029237261317f603",
     "locked": true,
     "points": 2,
     "schema_version": 3,
     "solution": false,
     "task": false
    }
   },
   "outputs": [],
   "source": [
    "assert type(answer_one()) == nx.Graph , \"Your return type should be a Graph object\"\n",
    "\n"
   ]
  },
  {
   "cell_type": "markdown",
   "metadata": {
    "deletable": false,
    "editable": false,
    "nbgrader": {
     "cell_type": "markdown",
     "checksum": "31d0ec5303fd9cc6e60cd483df78a3c5",
     "grade": false,
     "grade_id": "cell-249394e1cc31d0ca",
     "locked": true,
     "schema_version": 3,
     "solution": false,
     "task": false
    }
   },
   "source": [
    "### Question 2\n",
    "\n",
    "Using the graph from the previous question, add nodes attributes named `'type'` where movies have the value `'movie'` and employees have the value `'employee'` and return that graph.\n",
    "\n",
    "*This function should return a bipartite networkx graph with node attributes `{'type': 'movie'}` or `{'type': 'employee'}`*"
   ]
  },
  {
   "cell_type": "code",
   "execution_count": 13,
   "metadata": {},
   "outputs": [
    {
     "data": {
      "text/plain": [
       "NodeView(('Andy', 'Anaconda', 'Mean Girls', 'The Matrix', 'Claude', 'Monty Python and the Holy Grail', 'Snakes on a Plane', 'Frida', 'The Shawshank Redemption', 'The Social Network', 'Georgia', 'Joan', 'Forrest Gump', 'Kung Fu Panda', 'Lee', 'Pablo', 'The Dark Knight', 'Vincent', 'The Godfather'))"
      ]
     },
     "execution_count": 13,
     "metadata": {},
     "output_type": "execute_result"
    }
   ],
   "source": [
    "answer_one().nodes()"
   ]
  },
  {
   "cell_type": "code",
   "execution_count": 30,
   "metadata": {
    "deletable": false,
    "nbgrader": {
     "cell_type": "code",
     "checksum": "c94a82f1cdebf5de6a596a3d7574e7cd",
     "grade": false,
     "grade_id": "cell-4e6cd02626012f3d",
     "locked": false,
     "schema_version": 3,
     "solution": true,
     "task": false
    }
   },
   "outputs": [],
   "source": [
    "def answer_two():\n",
    "    \n",
    "    # YOUR CODE HERE\n",
    "    B1 = answer_one()\n",
    "    B1.add_nodes_from(employees, type=\"employee\")\n",
    "    B1.add_nodes_from(movies, type=\"movie\")\n",
    "    \n",
    "    return B1"
   ]
  },
  {
   "cell_type": "code",
   "execution_count": 31,
   "metadata": {
    "deletable": false,
    "editable": false,
    "nbgrader": {
     "cell_type": "code",
     "checksum": "6df8d9fd4f193c5997afafc0c55a4723",
     "grade": true,
     "grade_id": "cell-c0500f828d5662fb",
     "locked": true,
     "points": 2,
     "schema_version": 3,
     "solution": false,
     "task": false
    }
   },
   "outputs": [],
   "source": [
    "assert type(answer_two()) == nx.Graph , \"Your return type should be a Graph object\"\n"
   ]
  },
  {
   "cell_type": "code",
   "execution_count": 32,
   "metadata": {},
   "outputs": [
    {
     "data": {
      "text/plain": [
       "[('Andy', {'type': 'employee'}),\n",
       " ('Anaconda', {'type': 'movie'}),\n",
       " ('Mean Girls', {'type': 'movie'}),\n",
       " ('The Matrix', {'type': 'movie'}),\n",
       " ('Claude', {'type': 'employee'}),\n",
       " ('Monty Python and the Holy Grail', {'type': 'movie'}),\n",
       " ('Snakes on a Plane', {'type': 'movie'}),\n",
       " ('Frida', {'type': 'employee'}),\n",
       " ('The Shawshank Redemption', {'type': 'movie'}),\n",
       " ('The Social Network', {'type': 'movie'}),\n",
       " ('Georgia', {'type': 'employee'}),\n",
       " ('Joan', {'type': 'employee'}),\n",
       " ('Forrest Gump', {'type': 'movie'}),\n",
       " ('Kung Fu Panda', {'type': 'movie'}),\n",
       " ('Lee', {'type': 'employee'}),\n",
       " ('Pablo', {'type': 'employee'}),\n",
       " ('The Dark Knight', {'type': 'movie'}),\n",
       " ('Vincent', {'type': 'employee'}),\n",
       " ('The Godfather', {'type': 'movie'})]"
      ]
     },
     "execution_count": 32,
     "metadata": {},
     "output_type": "execute_result"
    }
   ],
   "source": [
    "list(answer_two().nodes(data=True))"
   ]
  },
  {
   "cell_type": "markdown",
   "metadata": {
    "deletable": false,
    "editable": false,
    "nbgrader": {
     "cell_type": "markdown",
     "checksum": "eb66ee80f345c2a630a06e6535bdccc0",
     "grade": false,
     "grade_id": "cell-533037784f789d72",
     "locked": true,
     "schema_version": 3,
     "solution": false,
     "task": false
    }
   },
   "source": [
    "### Question 3\n",
    "\n",
    "Find a weighted projection of the graph from `answer_two` which tells us how many movies different pairs of employees have in common.\n",
    "\n",
    "*This function should return a weighted projected graph.*"
   ]
  },
  {
   "cell_type": "code",
   "execution_count": 38,
   "metadata": {
    "deletable": false,
    "nbgrader": {
     "cell_type": "code",
     "checksum": "6a379f240aa02023d75b7defe4b11416",
     "grade": false,
     "grade_id": "cell-e85f388dda0fc212",
     "locked": false,
     "schema_version": 3,
     "solution": true,
     "task": false
    }
   },
   "outputs": [],
   "source": [
    "def answer_three():\n",
    "    \n",
    "    # YOUR CODE HERE\n",
    "    from networkx.algorithms import bipartite\n",
    "    B = answer_two()\n",
    "    P = bipartite.weighted_projected_graph(B, employees)\n",
    "    return P\n",
    "\n",
    "\n",
    "    "
   ]
  },
  {
   "cell_type": "code",
   "execution_count": 39,
   "metadata": {
    "deletable": false,
    "editable": false,
    "nbgrader": {
     "cell_type": "code",
     "checksum": "f26f092b5bdb8dfe0331595b6c463ea4",
     "grade": false,
     "grade_id": "cell-6b4a16b4c1bab3d2",
     "locked": true,
     "schema_version": 3,
     "solution": false,
     "task": false
    }
   },
   "outputs": [
    {
     "data": {
      "text/plain": [
       "EdgeDataView([('Frida', 'Andy', {'weight': 1}), ('Frida', 'Vincent', {'weight': 2}), ('Frida', 'Pablo', {'weight': 2}), ('Joan', 'Andy', {'weight': 1}), ('Joan', 'Lee', {'weight': 3}), ('Georgia', 'Andy', {'weight': 1}), ('Georgia', 'Claude', {'weight': 3}), ('Lee', 'Andy', {'weight': 1}), ('Claude', 'Andy', {'weight': 1}), ('Pablo', 'Andy', {'weight': 1}), ('Pablo', 'Vincent', {'weight': 1})])"
      ]
     },
     "execution_count": 39,
     "metadata": {},
     "output_type": "execute_result"
    },
    {
     "data": {
      "image/png": "[encoded data removed]",
      "text/plain": [
       "<Figure size 640x480 with 1 Axes>"
      ]
     },
     "metadata": {},
     "output_type": "display_data"
    }
   ],
   "source": [
    "G = answer_three()\n",
    "plot_graph(G, weight_name=\"weight\")\n",
    "G.edges(data = True)"
   ]
  },
  {
   "cell_type": "code",
   "execution_count": 37,
   "metadata": {
    "deletable": false,
    "editable": false,
    "nbgrader": {
     "cell_type": "code",
     "checksum": "bfcb5ab968326a6601fb98510d7d61bd",
     "grade": true,
     "grade_id": "cell-2778b8d02bc4ca1c",
     "locked": true,
     "points": 1,
     "schema_version": 3,
     "solution": false,
     "task": false
    }
   },
   "outputs": [],
   "source": [
    "assert type(answer_three()) == nx.Graph , \"Your return type should be a Graph object\"\n"
   ]
  },
  {
   "cell_type": "markdown",
   "metadata": {
    "deletable": false,
    "editable": false,
    "nbgrader": {
     "cell_type": "markdown",
     "checksum": "f30fedf55c4d28936a56146e82a4318f",
     "grade": false,
     "grade_id": "cell-7334d98bbe114440",
     "locked": true,
     "schema_version": 3,
     "solution": false,
     "task": false
    }
   },
   "source": [
    "### Question 4\n",
    "\n",
    "Suppose you'd like to find out if people that have a high relationship score also like the same types of movies.\n",
    "\n",
    "Find the pearson correlation between employee relationship scores and the number of movies they have in common. If two employees have no movies in common it should be treated as a 0, not a missing value, and should be included in the correlation calculation.\n",
    "\n",
    "*This function should return a float.*"
   ]
  },
  {
   "cell_type": "code",
   "execution_count": 47,
   "metadata": {},
   "outputs": [
    {
     "name": "stdout",
     "output_type": "stream",
     "text": [
      "Andy\tClaude\t0\n",
      "Andy\tFrida\t20\n",
      "Andy\tGeorgia\t-10\n",
      "Andy\tJoan\t30\n",
      "Andy\tLee\t-10\n"
     ]
    }
   ],
   "source": [
    "!cat assets/Employee_Relationships.txt | head -5"
   ]
  },
  {
   "cell_type": "markdown",
   "metadata": {},
   "source": [
    "rel = pd.read_csv(\n",
    "        'assets/Employee_Relationships.txt',\n",
    "    delim_whitespace=True,\n",
    "    header=None,\n",
    "    names=['e1', 'e2', 'relationship_score']\n",
    "    )\n",
    "# rel['key'] = rel[[\"e1\", \"e2\"]].values.tolist()\n",
    "# rel['key'] = rel['key'].apply(lambda x: x.sort())\n",
    "\n",
    "rel.head()"
   ]
  },
  {
   "cell_type": "markdown",
   "metadata": {},
   "source": [
    "G = answer_three()\n",
    "mov = pd.DataFrame(\n",
    "    G.edges(data = True),\n",
    "    columns=['e1', 'e2', 'movie_in_common']\n",
    ")\n",
    "mov['movie_in_common'] = mov['movie_in_common'].map(lambda x: x['weight'])\n",
    "\n",
    "mov.head()"
   ]
  },
  {
   "cell_type": "markdown",
   "metadata": {},
   "source": [
    "mov_ls = np.array(mov.values.tolist())\n",
    "mov_ls[:,0:2] = np.sort(mov_ls[:,0:2],axis=1)\n",
    "rel_ls = np.array(rel.values.tolist())\n",
    "rel_ls[:,0:2] = np.sort(rel_ls[:,0:2],axis=1)"
   ]
  },
  {
   "cell_type": "markdown",
   "metadata": {},
   "source": [
    "mov2 = pd.DataFrame(\n",
    "    mov_ls, \n",
    "    columns=['e1', 'e2', 'movie_in_common']\n",
    ")\n",
    "rel2 = pd.DataFrame(\n",
    "    rel_ls, \n",
    "    columns=['e1', 'e2', 'relationship_score']\n",
    ")\n",
    "df_final = mov2.merge(rel2, on = ['e1', 'e2'], how = \"outer\")\n",
    "df_final = df_final.fillna(0)\n",
    "df_final['movie_in_common'] = df_final['movie_in_common'].astype('int')\n",
    "df_final['relationship_score'] = df_final['relationship_score'].astype('int')"
   ]
  },
  {
   "cell_type": "markdown",
   "metadata": {},
   "source": [
    "col1, col2 = \"movie_in_common\", \"relationship_score\"\n",
    "df_final[col1].corr(df_final[col2])"
   ]
  },
  {
   "cell_type": "code",
   "execution_count": 179,
   "metadata": {
    "deletable": false,
    "nbgrader": {
     "cell_type": "code",
     "checksum": "2b46a672ad43d429dc76893d15b8e76a",
     "grade": false,
     "grade_id": "cell-6c1b9a8d087e47c8",
     "locked": false,
     "schema_version": 3,
     "solution": true,
     "task": false
    }
   },
   "outputs": [],
   "source": [
    "def answer_four():\n",
    "    \n",
    "    # YOUR CODE HERE\n",
    "    rel = pd.read_csv(\n",
    "        'assets/Employee_Relationships.txt',\n",
    "    delim_whitespace=True,\n",
    "    header=None,\n",
    "    names=['e1', 'e2', 'relationship_score']\n",
    "    )\n",
    "    # rel['key'] = rel[[\"e1\", \"e2\"]].values.tolist()\n",
    "    # rel['key'] = rel['key'].apply(lambda x: x.sort())\n",
    "\n",
    "    G = answer_three()\n",
    "    mov = pd.DataFrame(\n",
    "    G.edges(data = True),\n",
    "    columns=['e1', 'e2', 'movie_in_common']\n",
    "    )\n",
    "    mov['movie_in_common'] = mov['movie_in_common'].map(lambda x: x['weight'])\n",
    "\n",
    "    mov_ls = np.array(mov.values.tolist())\n",
    "    mov_ls[:,0:2] = np.sort(mov_ls[:,0:2],axis=1)\n",
    "    rel_ls = np.array(rel.values.tolist())\n",
    "    rel_ls[:,0:2] = np.sort(rel_ls[:,0:2],axis=1)\n",
    "\n",
    "    mov2 = pd.DataFrame(\n",
    "    mov_ls, \n",
    "    columns=['e1', 'e2', 'movie_in_common']\n",
    "    )\n",
    "    rel2 = pd.DataFrame(\n",
    "    rel_ls, \n",
    "    columns=['e1', 'e2', 'relationship_score']\n",
    "    )\n",
    "    df_final = mov2.merge(rel2, on = ['e1', 'e2'], how = \"outer\")\n",
    "    df_final = df_final.fillna(0)\n",
    "    df_final['movie_in_common'] = df_final['movie_in_common'].astype('int')\n",
    "    df_final['relationship_score'] = df_final['relationship_score'].astype('int')\n",
    "    \n",
    "    return df_final[\"movie_in_common\"].corr(df_final[\"relationship_score\"])"
   ]
  },
  {
   "cell_type": "code",
   "execution_count": 180,
   "metadata": {
    "deletable": false,
    "editable": false,
    "nbgrader": {
     "cell_type": "code",
     "checksum": "a77b0d29ae15deba7b0ad67c71334004",
     "grade": true,
     "grade_id": "cell-b7b288e5ac139702",
     "locked": true,
     "points": 4,
     "schema_version": 3,
     "solution": false,
     "task": false
    }
   },
   "outputs": [],
   "source": [
    "ans_four = answer_four()"
   ]
  }
 ],
 "metadata": {
  "anaconda-cloud": {},
  "kernelspec": {
   "display_name": "Python 3 (ipykernel)",
   "language": "python",
   "name": "python3"
  },
  "language_info": {
   "codemirror_mode": {
    "name": "ipython",
    "version": 3
   },
   "file_extension": ".py",
   "mimetype": "text/x-python",
   "name": "python",
   "nbconvert_exporter": "python",
   "pygments_lexer": "ipython3",
   "version": "3.9.13"
  }
 },
 "nbformat": 4,
 "nbformat_minor": 4
}
